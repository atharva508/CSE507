{
 "cells": [
  {
   "cell_type": "code",
   "execution_count": 1,
   "metadata": {},
   "outputs": [],
   "source": [
    "import torch\n",
    "import torch.nn.functional as F\n",
    "import numpy as np\n",
    "from PIL import Image\n",
    "\n"
   ]
  },
  {
   "cell_type": "code",
   "execution_count": null,
   "metadata": {},
   "outputs": [],
   "source": []
  },
  {
   "cell_type": "code",
   "execution_count": 2,
   "metadata": {},
   "outputs": [],
   "source": [
    "# ---- load and prep image (grayscale, [B,C,H,W]) ----\n",
    "img_path = \"1657999067686 copy.jpeg\"  # or the full path to your image\n",
    "img = Image.open(img_path).convert(\"L\")  # grayscale\n"
   ]
  },
  {
   "cell_type": "code",
   "execution_count": 3,
   "metadata": {},
   "outputs": [
    {
     "data": {
      "text/plain": [
       "torch.Size([1, 1, 800, 800])"
      ]
     },
     "execution_count": 3,
     "metadata": {},
     "output_type": "execute_result"
    }
   ],
   "source": [
    "x = torch.from_numpy(np.array(img)).float() / 255.0  # [H,W] in [0,1]\n",
    "x = x.unsqueeze(0).unsqueeze(0)# [1,1,H,W]\n",
    "x.shape\n"
   ]
  },
  {
   "cell_type": "code",
   "execution_count": 4,
   "metadata": {},
   "outputs": [],
   "source": [
    "\n",
    "# ---- define 3x3 Sobel kernels ----\n",
    "kx = torch.tensor([[-2., 0., 1.],\n",
    "                   [-2., 0., 2.],\n",
    "                   [-1., 0., 1.]]).reshape(1,1,3,3)\n",
    "\n",
    "ky = torch.tensor([[-1., -2., -1.],\n",
    "                   [ 0.,  0.,  0.],\n",
    "                   [ 1.,  2.,  1.]]).reshape(1,1,3,3)\n",
    "\n"
   ]
  },
  {
   "cell_type": "code",
   "execution_count": 5,
   "metadata": {},
   "outputs": [],
   "source": [
    "# move kernels to same device as input\n",
    "device = torch.device(\"cuda\" if torch.cuda.is_available() else \"cpu\")\n",
    "x = x.to(device)\n",
    "kx = kx.to(device)\n",
    "ky = ky.to(device)\n",
    "\n"
   ]
  },
  {
   "cell_type": "code",
   "execution_count": 6,
   "metadata": {},
   "outputs": [],
   "source": [
    "# ---- convolution with padding=1 to keep size ----\n",
    "gx = F.conv2d(x, kx, padding=1)\n",
    "gy = F.conv2d(x, ky, padding=1)\n",
    "\n",
    "# ---- gradient magnitude ----\n",
    "mag = gx+gy\n",
    "\n"
   ]
  },
  {
   "cell_type": "code",
   "execution_count": 7,
   "metadata": {},
   "outputs": [
    {
     "name": "stdout",
     "output_type": "stream",
     "text": [
      "Saved edges to edges_sobel.jpg\n"
     ]
    }
   ],
   "source": [
    "# ---- normalize to [0,255] and save ----\n",
    "m = mag.squeeze().detach().cpu().numpy()\n",
    "m = (m / (m.max() + 1e-8) * 255.0).astype(np.uint8)\n",
    "out = Image.fromarray(m)\n",
    "out.save(\"edges_sobel.jpg\")\n",
    "print(\"Saved edges to edges_sobel.jpg\")"
   ]
  },
  {
   "cell_type": "code",
   "execution_count": null,
   "metadata": {},
   "outputs": [],
   "source": []
  }
 ],
 "metadata": {
  "kernelspec": {
   "display_name": "rlhf-env",
   "language": "python",
   "name": "python3"
  },
  "language_info": {
   "codemirror_mode": {
    "name": "ipython",
    "version": 3
   },
   "file_extension": ".py",
   "mimetype": "text/x-python",
   "name": "python",
   "nbconvert_exporter": "python",
   "pygments_lexer": "ipython3",
   "version": "3.10.15"
  }
 },
 "nbformat": 4,
 "nbformat_minor": 2
}
